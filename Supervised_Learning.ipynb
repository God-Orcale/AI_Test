{
  "nbformat": 4,
  "nbformat_minor": 0,
  "metadata": {
    "colab": {
      "provenance": [],
      "authorship_tag": "ABX9TyPIADr9Q0PshQ4w5fXuNYxX",
      "include_colab_link": true
    },
    "kernelspec": {
      "name": "python3",
      "display_name": "Python 3"
    },
    "language_info": {
      "name": "python"
    }
  },
  "cells": [
    {
      "cell_type": "markdown",
      "metadata": {
        "id": "view-in-github",
        "colab_type": "text"
      },
      "source": [
        "<a href=\"https://colab.research.google.com/github/God-Orcale/AI_Test/blob/main/Supervised_Learning.ipynb\" target=\"_parent\"><img src=\"https://colab.research.google.com/assets/colab-badge.svg\" alt=\"Open In Colab\"/></a>"
      ]
    },
    {
      "cell_type": "code",
      "execution_count": 2,
      "metadata": {
        "id": "pPP77ZQqvju8"
      },
      "outputs": [],
      "source": [
        "import torch\n",
        "import torch.nn as nn\n",
        "import torch.optim as optim\n",
        "import torchvision\n",
        "import torchvision.transforms as transforms\n",
        "batch_size = 64\n",
        "learning_rate = 0.001\n",
        "num_epochs = 10"
      ]
    },
    {
      "cell_type": "code",
      "source": [
        "transform = transforms.Compose([\n",
        "    transforms.ToTensor(),\n",
        "    transforms.Normalize((0.1307,),(0.3081,))\n",
        "])\n",
        "train_dataset = torchvision.datasets.MNIST(root='./data',train=True,transform=transform,download=True)\n",
        "test_dataset = torchvision.datasets.MNIST(root='./data',train=False,transform=transform,download=True)\n",
        "train_loader = torch.utils.data.DataLoader(dataset=train_dataset,batch_size=batch_size,shuffle=True)\n",
        "test_loader = torch.utils.data.DataLoader(dataset=test_dataset,batch_size=batch_size,shuffle=False)"
      ],
      "metadata": {
        "colab": {
          "base_uri": "https://localhost:8080/"
        },
        "id": "hJ22TXvhylwV",
        "outputId": "f5ac36df-596a-415d-eec0-6a04751cc69f"
      },
      "execution_count": 3,
      "outputs": [
        {
          "output_type": "stream",
          "name": "stderr",
          "text": [
            "100%|██████████| 9.91M/9.91M [00:02<00:00, 4.60MB/s]\n",
            "100%|██████████| 28.9k/28.9k [00:00<00:00, 160kB/s]\n",
            "100%|██████████| 1.65M/1.65M [00:01<00:00, 1.51MB/s]\n",
            "100%|██████████| 4.54k/4.54k [00:00<00:00, 4.16MB/s]\n"
          ]
        }
      ]
    },
    {
      "cell_type": "code",
      "source": [
        "class SimpleNN(nn.Module):\n",
        "  def __init__(self):\n",
        "    super(SimpleNN,self).__init__()\n",
        "    self.flatten = nn.Flatten()\n",
        "    self.fc1 = nn.Linear(28*28,128)\n",
        "    self.relu1 = nn.ReLU()\n",
        "    self.fc2 = nn.Linear(128,64)\n",
        "    self.relu2 = nn.ReLU()\n",
        "    self.fc3 = nn.Linear(64,10)\n",
        "  def forward(self,x):\n",
        "    x = self.flatten(x)\n",
        "    x = self.fc1(x)\n",
        "    x = self.relu1(x)\n",
        "    x = self.fc2(x)\n",
        "    x = self.relu2(x)\n",
        "    x = self.fc3(x)\n",
        "    return x"
      ],
      "metadata": {
        "id": "2IBQ0wiHO-kh"
      },
      "execution_count": 4,
      "outputs": []
    },
    {
      "cell_type": "code",
      "source": [
        "device = torch.device('cuda' if torch.cuda.is_available() else 'cpu')\n",
        "model = SimpleNN().to(device)\n",
        "criterion = nn.CrossEntropyLoss()\n",
        "optimizer = optim.Adam(model.parameters(),lr=learning_rate)"
      ],
      "metadata": {
        "id": "NmQvE-N8P7RJ"
      },
      "execution_count": 5,
      "outputs": []
    },
    {
      "cell_type": "code",
      "source": [
        "def train_one_epoch(model,dataloader,criterion,optimizer,device):\n",
        "  model.train()\n",
        "  running_loss = 0.0\n",
        "  correct = 0\n",
        "  total = 0\n",
        "  for images,labels in dataloader:\n",
        "    images,labels = images.to(device),labels.to(device)\n",
        "    outputs = model(images)\n",
        "    loss = criterion(outputs,labels)\n",
        "    optimizer.zero_grad()\n",
        "    loss.backward()\n",
        "    optimizer.step()\n",
        "    running_loss += loss.item()*images.size(0)\n",
        "    _,predicted = torch.max(outputs.data,1)\n",
        "    total += labels.size(0)\n",
        "    correct += (predicted == labels).sum().item()\n",
        "  epoch_loss = running_loss/len(dataloader.dataset)\n",
        "  epoch_acc = correct/total\n",
        "  return epoch_loss,epoch_acc\n",
        ""
      ],
      "metadata": {
        "id": "kEvVCux5QBSz"
      },
      "execution_count": 6,
      "outputs": []
    },
    {
      "cell_type": "code",
      "source": [
        "def evaluate(model,dataloader,criterion,device):\n",
        "  model.eval()\n",
        "  running_loss = 0.0\n",
        "  correct = 0\n",
        "  total = 0\n",
        "  with torch.no_grad():\n",
        "    for images,labels in dataloader:\n",
        "      images,labels = images.to(device),labels.to(device)\n",
        "      outputs = model(images)\n",
        "      loss = criterion(outputs,labels)\n",
        "      running_loss += loss.item()*images.size(0)\n",
        "      _,predicted = torch.max(outputs.data,1)\n",
        "      total += labels.size(0)\n",
        "      correct += (predicted == labels).sum().item()\n",
        "  epoch_loss = running_loss/len(dataloader.dataset)\n",
        "  epoch_acc = correct/total\n",
        "  return epoch_loss,epoch_acc"
      ],
      "metadata": {
        "id": "OzsANfUHQvHL"
      },
      "execution_count": 7,
      "outputs": []
    },
    {
      "cell_type": "code",
      "source": [
        "for epoch in range(num_epochs):\n",
        "  train_loss,train_acc = train_one_epoch(model,train_loader,criterion,optimizer,device)\n",
        "  test_loss,test_acc = evaluate(model,test_loader,criterion,device)\n",
        "  print(f'Epoch {epoch+1}/{num_epochs}, Train Loss: {train_loss:.4f}, Train Acc: {train_acc:.4f}, Test Loss: {test_loss:.4f}, Test Acc: {test_acc:.4f}')"
      ],
      "metadata": {
        "colab": {
          "base_uri": "https://localhost:8080/"
        },
        "id": "e2qHd6YNQ8z_",
        "outputId": "0c2a9dd4-be8d-4ad6-e496-8e57f4eda64c"
      },
      "execution_count": 8,
      "outputs": [
        {
          "output_type": "stream",
          "name": "stdout",
          "text": [
            "Epoch 1/10, Train Loss: 0.2726, Train Acc: 0.9186, Test Loss: 0.1380, Test Acc: 0.9570\n",
            "Epoch 2/10, Train Loss: 0.1116, Train Acc: 0.9665, Test Loss: 0.1041, Test Acc: 0.9679\n",
            "Epoch 3/10, Train Loss: 0.0801, Train Acc: 0.9753, Test Loss: 0.1031, Test Acc: 0.9664\n",
            "Epoch 4/10, Train Loss: 0.0612, Train Acc: 0.9810, Test Loss: 0.0883, Test Acc: 0.9718\n",
            "Epoch 5/10, Train Loss: 0.0488, Train Acc: 0.9840, Test Loss: 0.0936, Test Acc: 0.9709\n",
            "Epoch 6/10, Train Loss: 0.0394, Train Acc: 0.9870, Test Loss: 0.0954, Test Acc: 0.9739\n",
            "Epoch 7/10, Train Loss: 0.0360, Train Acc: 0.9874, Test Loss: 0.0789, Test Acc: 0.9781\n",
            "Epoch 8/10, Train Loss: 0.0272, Train Acc: 0.9910, Test Loss: 0.0948, Test Acc: 0.9734\n",
            "Epoch 9/10, Train Loss: 0.0259, Train Acc: 0.9913, Test Loss: 0.1042, Test Acc: 0.9743\n",
            "Epoch 10/10, Train Loss: 0.0229, Train Acc: 0.9920, Test Loss: 0.1131, Test Acc: 0.9729\n"
          ]
        }
      ]
    }
  ]
}