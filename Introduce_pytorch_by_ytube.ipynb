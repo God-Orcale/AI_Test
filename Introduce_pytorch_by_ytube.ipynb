{
  "nbformat": 4,
  "nbformat_minor": 0,
  "metadata": {
    "colab": {
      "provenance": [],
      "authorship_tag": "ABX9TyOmvf7PvzdV+CNiLpr1NZWT",
      "include_colab_link": true
    },
    "kernelspec": {
      "name": "python3",
      "display_name": "Python 3"
    },
    "language_info": {
      "name": "python"
    }
  },
  "cells": [
    {
      "cell_type": "markdown",
      "metadata": {
        "id": "view-in-github",
        "colab_type": "text"
      },
      "source": [
        "<a href=\"https://colab.research.google.com/github/God-Orcale/AI_Test/blob/main/Introduce_pytorch_by_ytube.ipynb\" target=\"_parent\"><img src=\"https://colab.research.google.com/assets/colab-badge.svg\" alt=\"Open In Colab\"/></a>"
      ]
    },
    {
      "cell_type": "code",
      "execution_count": 2,
      "metadata": {
        "id": "xTVCVbHDi87o"
      },
      "outputs": [],
      "source": [
        "import torch"
      ]
    },
    {
      "cell_type": "code",
      "source": [
        "z = torch.zeros(5,3)\n",
        "print(z)\n",
        "print(z.dtype)"
      ],
      "metadata": {
        "colab": {
          "base_uri": "https://localhost:8080/"
        },
        "id": "1Lg-D5BgjAwv",
        "outputId": "dd454ab1-dcfc-498d-e3d5-1e24e73b9104"
      },
      "execution_count": 3,
      "outputs": [
        {
          "output_type": "stream",
          "name": "stdout",
          "text": [
            "tensor([[0., 0., 0.],\n",
            "        [0., 0., 0.],\n",
            "        [0., 0., 0.],\n",
            "        [0., 0., 0.],\n",
            "        [0., 0., 0.]])\n",
            "torch.float32\n"
          ]
        }
      ]
    },
    {
      "cell_type": "code",
      "source": [
        "i = torch.ones((5,3),dtype=torch.int16)\n",
        "print(i)"
      ],
      "metadata": {
        "colab": {
          "base_uri": "https://localhost:8080/"
        },
        "id": "VzrmKZ_HjGn3",
        "outputId": "99f787c9-3d5e-4cac-b815-f67c47f1bf87"
      },
      "execution_count": 4,
      "outputs": [
        {
          "output_type": "stream",
          "name": "stdout",
          "text": [
            "tensor([[1, 1, 1],\n",
            "        [1, 1, 1],\n",
            "        [1, 1, 1],\n",
            "        [1, 1, 1],\n",
            "        [1, 1, 1]], dtype=torch.int16)\n"
          ]
        }
      ]
    },
    {
      "cell_type": "code",
      "source": [
        "torch.manual_seed(1729)\n",
        "r1 = torch.rand(3,3)\n",
        "print('A random tensor')\n",
        "print(r1)\n",
        "r2 = torch.rand(3,3),\n",
        "print('\\n A different random tensor')\n",
        "print(r2)\n",
        "torch.manual_seed(1729)\n",
        "r3 = torch.rand(3,3)\n",
        "print('\\n should match r1')\n",
        "print(r3)\n"
      ],
      "metadata": {
        "colab": {
          "base_uri": "https://localhost:8080/"
        },
        "id": "lsf32ZLWjS1_",
        "outputId": "b2bf7b3c-9c92-4ab6-c0fa-12cb6bd58b2b"
      },
      "execution_count": 5,
      "outputs": [
        {
          "output_type": "stream",
          "name": "stdout",
          "text": [
            "A random tensor\n",
            "tensor([[0.3126, 0.3791, 0.3087],\n",
            "        [0.0736, 0.4216, 0.0691],\n",
            "        [0.2332, 0.4047, 0.2162]])\n",
            "\n",
            " A different random tensor\n",
            "(tensor([[0.9927, 0.4128, 0.5938],\n",
            "        [0.6128, 0.1519, 0.0453],\n",
            "        [0.5035, 0.9978, 0.3884]]),)\n",
            "\n",
            " should match r1\n",
            "tensor([[0.3126, 0.3791, 0.3087],\n",
            "        [0.0736, 0.4216, 0.0691],\n",
            "        [0.2332, 0.4047, 0.2162]])\n"
          ]
        }
      ]
    },
    {
      "cell_type": "code",
      "source": [
        "one = torch.ones(3,3)\n",
        "print(one)\n",
        "two = torch.ones(3,3) * 2\n",
        "print(two)\n",
        "three = one + two\n",
        "print(three)\n",
        "print(three.shape)\n",
        "r1 = torch.rand(3,4)\n",
        "r2 = torch.rand(4,3)"
      ],
      "metadata": {
        "colab": {
          "base_uri": "https://localhost:8080/"
        },
        "id": "8PbwwOTVj7Vr",
        "outputId": "a1bfa5c1-526e-4751-8367-0e5aae711d32"
      },
      "execution_count": 6,
      "outputs": [
        {
          "output_type": "stream",
          "name": "stdout",
          "text": [
            "tensor([[1., 1., 1.],\n",
            "        [1., 1., 1.],\n",
            "        [1., 1., 1.]])\n",
            "tensor([[2., 2., 2.],\n",
            "        [2., 2., 2.],\n",
            "        [2., 2., 2.]])\n",
            "tensor([[3., 3., 3.],\n",
            "        [3., 3., 3.],\n",
            "        [3., 3., 3.]])\n",
            "torch.Size([3, 3])\n"
          ]
        }
      ]
    },
    {
      "cell_type": "code",
      "source": [
        "r = (torch.rand(3,3)-0.5) * 2\n",
        "print('A random matrix,r')\n",
        "print(r)\n",
        "\n",
        "print('\\n Absolute of r')\n",
        "print(torch.abs(r))\n",
        "\n",
        "print('\\n Inverese sine of r')\n",
        "print(torch.asin(r))\n",
        "\n",
        "print('\\n Singular value decomposition of r')\n",
        "print(torch.svd(r))\n",
        "\n",
        "print('\\n Average and standard deviation of r')\n",
        "print(torch.std_mean(r))\n",
        "\n",
        "print('\\n Maximum of r')\n",
        "print(torch.max(r))\n"
      ],
      "metadata": {
        "colab": {
          "base_uri": "https://localhost:8080/"
        },
        "id": "zNEzVgKDkbyp",
        "outputId": "e59db681-1847-447f-f5e0-9ee11b1ce337"
      },
      "execution_count": 7,
      "outputs": [
        {
          "output_type": "stream",
          "name": "stdout",
          "text": [
            "A random matrix,r\n",
            "tensor([[-0.5283, -0.6041, -0.3345],\n",
            "        [ 0.2291,  0.1998,  0.0026],\n",
            "        [ 0.8793,  0.7312,  0.0413]])\n",
            "\n",
            " Absolute of r\n",
            "tensor([[0.5283, 0.6041, 0.3345],\n",
            "        [0.2291, 0.1998, 0.0026],\n",
            "        [0.8793, 0.7312, 0.0413]])\n",
            "\n",
            " Inverese sine of r\n",
            "tensor([[-0.5566, -0.6487, -0.3411],\n",
            "        [ 0.2312,  0.2012,  0.0026],\n",
            "        [ 1.0744,  0.8201,  0.0413]])\n",
            "\n",
            " Singular value decomposition of r\n",
            "torch.return_types.svd(\n",
            "U=tensor([[-0.5825, -0.8127,  0.0146],\n",
            "        [ 0.2081, -0.1665, -0.9638],\n",
            "        [ 0.7857, -0.5584,  0.2662]]),\n",
            "S=tensor([1.4435, 0.2722, 0.0094]),\n",
            "V=tensor([[ 0.7248, -0.3667,  0.5832],\n",
            "        [ 0.6706,  0.1815, -0.7193],\n",
            "        [ 0.1579,  0.9125,  0.3775]]))\n",
            "\n",
            " Average and standard deviation of r\n",
            "(tensor(0.5143), tensor(0.0685))\n",
            "\n",
            " Maximum of r\n",
            "tensor(0.8793)\n"
          ]
        }
      ]
    },
    {
      "cell_type": "code",
      "source": [
        "import torch\n",
        "import torch.nn as nn\n",
        "import torch.nn.functional as F"
      ],
      "metadata": {
        "id": "sWerpfxwlTJk"
      },
      "execution_count": 8,
      "outputs": []
    },
    {
      "cell_type": "code",
      "source": [
        "class LeNet(nn.Module):\n",
        "  def __init__(self):\n",
        "    super(LeNet, self).__init__()\n",
        "    self.conv1 = nn.Conv2d(1,6,5)\n",
        "    self.conv2 = nn.Conv2d(6,16,5)\n",
        "    self.fc1 = nn.Linear(16*5*5,120)\n",
        "    self.fc2 = nn.Linear(120,84)\n",
        "    self.fc3 = nn.Linear(84,10)\n",
        "  def forward(self,x):\n",
        "    x = F.max_pool2d(F.relu(self.conv1(x)),(2,2))\n",
        "    x = F.max_pool2d(F.relu(self.conv2(x)),2)\n",
        "    x = x.view(-1,self.num_flat_features(x))\n",
        "    x = F.relu(self.fc1(x))\n",
        "    x = F.relu(self.fc2(x))\n",
        "    x = self.fc3(x)\n",
        "    return x\n",
        "  def num_flat_features(self,x):\n",
        "    size = x.size()[1:]\n",
        "    num_features = 1\n",
        "    for s in size:\n",
        "      num_features*=s\n",
        "    return num_features\n"
      ],
      "metadata": {
        "id": "Vak6w7F3lkim"
      },
      "execution_count": 10,
      "outputs": []
    },
    {
      "cell_type": "code",
      "source": [
        "net = LeNet()\n",
        "print(net)\n",
        "\n",
        "input = torch.rand(1,1,32,32)\n",
        "print('\\n Image batch shape:')\n",
        "print(input.shape)\n"
      ],
      "metadata": {
        "colab": {
          "base_uri": "https://localhost:8080/"
        },
        "id": "IIV919UgnBBx",
        "outputId": "108257cb-a30c-4449-a403-1b0d2da97978"
      },
      "execution_count": 11,
      "outputs": [
        {
          "output_type": "stream",
          "name": "stdout",
          "text": [
            "LeNet(\n",
            "  (conv1): Conv2d(1, 6, kernel_size=(5, 5), stride=(1, 1))\n",
            "  (conv2): Conv2d(6, 16, kernel_size=(5, 5), stride=(1, 1))\n",
            "  (fc1): Linear(in_features=400, out_features=120, bias=True)\n",
            "  (fc2): Linear(in_features=120, out_features=84, bias=True)\n",
            "  (fc3): Linear(in_features=84, out_features=10, bias=True)\n",
            ")\n",
            "\n",
            " Image batch shape:\n",
            "torch.Size([1, 1, 32, 32])\n"
          ]
        }
      ]
    },
    {
      "cell_type": "code",
      "source": [
        "import torch\n",
        "import torchvision\n",
        "import torchvision.transforms as transforms\n",
        "\n",
        "transform = transforms.Compose(\n",
        "    [transforms.ToTensor(),\n",
        "     transforms.Normalize((0.4914,0.4822,0.4465),(0.2470,0.2435,0.2616)),\n",
        "     ]\n",
        ")\n",
        "# transforms.ToTensor()将 Pillow 加载的图像转换为 PyTorch 张量。\n",
        "# transforms.Normalize()调整张量的值，因此 他们的平均值为零，标准差为 1.0。"
      ],
      "metadata": {
        "id": "HokCgeQwnUfv"
      },
      "execution_count": 13,
      "outputs": []
    },
    {
      "cell_type": "code",
      "source": [
        "trainset = torchvision.datasets.CIFAR10(root='/data',train = True,download=True,\n",
        "                                        transform = transform)"
      ],
      "metadata": {
        "colab": {
          "base_uri": "https://localhost:8080/"
        },
        "id": "_iBvJiRHoSqb",
        "outputId": "7241f116-bf21-4814-ff4f-730c1e5879e6"
      },
      "execution_count": 15,
      "outputs": [
        {
          "output_type": "stream",
          "name": "stderr",
          "text": [
            "100%|██████████| 170M/170M [00:03<00:00, 44.0MB/s]\n"
          ]
        }
      ]
    },
    {
      "cell_type": "code",
      "source": [
        "trainloader = torch.utils.data.DataLoader(trainset,batch_size = 4,shuffle=True,num_workers = 2)\n",
        "# 要求DataLoader为我们提供4张图片来自trainset，随机化它们的顺序（）shuffle=True，告诉它启动两个worker来从磁盘加载数据。"
      ],
      "metadata": {
        "id": "fWmz-kWlon4j"
      },
      "execution_count": 16,
      "outputs": []
    },
    {
      "cell_type": "code",
      "source": [
        "import matplotlib.pyplot as plt\n",
        "import numpy as np\n",
        "classes = ('plane','car','bird','cat','deer','dog','frog','horse','ship','truck')\n",
        "def imshow(img):\n",
        "  img = img/2 +0.5\n",
        "  npimg = img.numpy()\n",
        "  plt.imshow(np.transpose(npimg,(1,2,0)))\n",
        "\n",
        "dataiter = iter(trainloader)\n",
        "images,labels = next(dataiter)\n",
        "imshow(torchvision.utils.make_grid(images))\n",
        "print(' '.join('%5s' % classes[labels[j]] for j in range(4)))"
      ],
      "metadata": {
        "colab": {
          "base_uri": "https://localhost:8080/",
          "height": 248
        },
        "id": "6YsnGbajpJJI",
        "outputId": "ee999ab0-62ee-4903-dac6-77fbd9a2eedb"
      },
      "execution_count": 17,
      "outputs": [
        {
          "output_type": "stream",
          "name": "stderr",
          "text": [
            "WARNING:matplotlib.image:Clipping input data to the valid range for imshow with RGB data ([0..1] for floats or [0..255] for integers). Got range [-0.49473685..1.5632443].\n"
          ]
        },
        {
          "output_type": "stream",
          "name": "stdout",
          "text": [
            "truck  ship  bird   car\n"
          ]
        },
        {
          "output_type": "display_data",
          "data": {
            "text/plain": [
              "<Figure size 640x480 with 1 Axes>"
            ],
            "image/png": "[encoded data removed]"
          },
          "metadata": {}
        }
      ]
    },
    {
      "cell_type": "code",
      "source": [
        "import torch\n",
        "import torch.nn as nn\n",
        "import torch.nn.functional as F\n",
        "import torch.optim as optim\n",
        "\n",
        "import torchvision\n",
        "import torchvision.transforms as transforms\n",
        "\n",
        "import matplotlib\n",
        "import matplotlib.pyplot as plt\n",
        "import numpy as np\n"
      ],
      "metadata": {
        "id": "Bl7eu5LyqKMM"
      },
      "execution_count": 18,
      "outputs": []
    },
    {
      "cell_type": "code",
      "source": [
        "transform = transforms.Compose(\n",
        "    [transforms.ToTensor(),\n",
        "     transforms.Normalize((0.5,0.5,0.5),(0.5,0.5,0.5))])\n",
        "trainset = torchvision.datasets.CIFAR10(root='./data',train=True,download=True,transform=transform)\n",
        "trainloader = torch.utils.data.DataLoader(trainset,batch_size=4,shuffle=True,num_workers=2)\n",
        "testset = torchvision.datasets.CIFAR10(root='./data',train=False,download=True,transform=transform)\n",
        "testloader = torch.utils.data.DataLoader(testset,batch_size=4,shuffle=False,num_workers=2)\n",
        "classes=('plane','car','bird','cat','deer','dog','frog','horse','ship','truck')"
      ],
      "metadata": {
        "colab": {
          "base_uri": "https://localhost:8080/"
        },
        "id": "3AYJp_H3qtDT",
        "outputId": "fd1c3507-0d6e-4a78-82e5-34737ca1bf62"
      },
      "execution_count": 19,
      "outputs": [
        {
          "output_type": "stream",
          "name": "stderr",
          "text": [
            "100%|██████████| 170M/170M [00:03<00:00, 48.4MB/s]\n"
          ]
        }
      ]
    },
    {
      "cell_type": "code",
      "source": [
        "import matplotlib.pyplot as plt\n",
        "import numpy as np\n",
        "def imshow(img):\n",
        "  img = img/2 + 0.5\n",
        "  npimg = img.numpy()\n",
        "  plt.imshow(np.transpose(npimg,(1,2,0)))\n",
        "  dataiter = iter(trainloader)\n",
        "  images,labels = next(dataiter)\n",
        "  imshow(torchvision.utils.make_grid(images))\n",
        "  print(' '.join('%5s' % classes[labels[j]] for j in range(4)))"
      ],
      "metadata": {
        "id": "9FEUjRzGr_Fd"
      },
      "execution_count": 20,
      "outputs": []
    },
    {
      "cell_type": "code",
      "source": [
        "class Net(nn.Module):\n",
        "  def __init__(self):\n",
        "    super(Net, self).__init__()\n",
        "    self.conv1 = nn.Conv2d(3,6,5)\n",
        "    self.pool = nn.MaxPool2d(2,2)\n",
        "    self.conv2 = nn.Conv2d(6,16,5)\n",
        "    self.fc1 = nn.Linear(16*5*5,120)\n",
        "    self.fc2 = nn.Linear(120,84)\n",
        "    self.fc3 = nn.Linear(84,10)\n",
        "  def forward(self,x):\n",
        "    x = self.pool(F.relu(self.conv1(x)))\n",
        "    x = self.pool(F.relu(self.conv2(x)))\n",
        "    x = x.view(-1,16*5*5)\n",
        "    x = F.relu(self.fc1(x))\n",
        "    x = F.relu(self.fc2(x))\n",
        "    x = self.fc3(x)\n",
        "    return x\n",
        "net = Net()"
      ],
      "metadata": {
        "id": "jxEd1YdZs2eP"
      },
      "execution_count": 32,
      "outputs": []
    },
    {
      "cell_type": "code",
      "source": [
        "criterion = nn.CrossEntropyLoss()\n",
        "optimizer = optim.SGD(net.parameters(),lr =0.001,momentum=0.9)"
      ],
      "metadata": {
        "id": "94GpusuMtBdv"
      },
      "execution_count": 33,
      "outputs": []
    },
    {
      "cell_type": "code",
      "source": [
        "for epoch in range(2):\n",
        "  running_loss =0.0\n",
        "  for i,data in enumerate(trainloader,0):\n",
        "    inputs,labels =data\n",
        "    optimizer.zero_grad()\n",
        "    outputs = net(inputs)\n",
        "    loss = criterion(outputs,labels)\n",
        "    loss.backward()\n",
        "    optimizer.step()\n",
        "    running_loss += loss.item()\n",
        "    if i %2000 == 1999:\n",
        "      print('[%d, %5d] loss: %.3f' %\n",
        "            (epoch + 1, i + 1, running_loss / 2000))\n",
        "      running_loss = 0.0\n",
        "\n",
        "  print('Finished Training')"
      ],
      "metadata": {
        "colab": {
          "base_uri": "https://localhost:8080/"
        },
        "id": "Mt7eDT8VtSVH",
        "outputId": "f42b15ed-5e87-471b-e703-3e5aecd67686"
      },
      "execution_count": 34,
      "outputs": [
        {
          "output_type": "stream",
          "name": "stdout",
          "text": [
            "[1,  2000] loss: 2.189\n",
            "[1,  4000] loss: 1.866\n",
            "[1,  6000] loss: 1.669\n",
            "[1,  8000] loss: 1.576\n",
            "[1, 10000] loss: 1.508\n",
            "[1, 12000] loss: 1.468\n",
            "Finished Training\n",
            "[2,  2000] loss: 1.408\n",
            "[2,  4000] loss: 1.382\n",
            "[2,  6000] loss: 1.343\n",
            "[2,  8000] loss: 1.350\n",
            "[2, 10000] loss: 1.324\n",
            "[2, 12000] loss: 1.327\n",
            "Finished Training\n"
          ]
        }
      ]
    },
    {
      "cell_type": "code",
      "source": [
        "correct = 0\n",
        "total = 0\n",
        "with torch.no_grad():\n",
        "  for data in testloader:\n",
        "    images,labels = data\n",
        "    outputs = net(images)\n",
        "    _,predicted = torch.max(outputs.data,1)\n",
        "    total += labels.size(0)\n",
        "    correct += (predicted == labels).sum().item()\n",
        "print('Accuracy of the network on the 10000 test images: %d %%' % (\n",
        "    100 * correct / total))"
      ],
      "metadata": {
        "colab": {
          "base_uri": "https://localhost:8080/"
        },
        "id": "d6nlPuNPuSfF",
        "outputId": "0a7b7e6a-0a99-42b3-a67b-62308a43a4b4"
      },
      "execution_count": 35,
      "outputs": [
        {
          "output_type": "stream",
          "name": "stdout",
          "text": [
            "Accuracy of the network on the 10000 test images: 54 %\n"
          ]
        }
      ]
    }
  ]
}