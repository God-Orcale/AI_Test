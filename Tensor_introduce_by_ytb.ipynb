{
  "nbformat": 4,
  "nbformat_minor": 0,
  "metadata": {
    "colab": {
      "provenance": [],
      "authorship_tag": "ABX9TyOTy3et+SHpmIkC2WRLiH7D",
      "include_colab_link": true
    },
    "kernelspec": {
      "name": "python3",
      "display_name": "Python 3"
    },
    "language_info": {
      "name": "python"
    }
  },
  "cells": [
    {
      "cell_type": "markdown",
      "metadata": {
        "id": "view-in-github",
        "colab_type": "text"
      },
      "source": [
        "<a href=\"https://colab.research.google.com/github/God-Orcale/AI_Test/blob/main/Tensor_introduce_by_ytb.ipynb\" target=\"_parent\"><img src=\"https://colab.research.google.com/assets/colab-badge.svg\" alt=\"Open In Colab\"/></a>"
      ]
    },
    {
      "cell_type": "code",
      "execution_count": 1,
      "metadata": {
        "id": "OxrjFAsxu7DE"
      },
      "outputs": [],
      "source": [
        "import torch\n",
        "import math"
      ]
    },
    {
      "cell_type": "code",
      "source": [
        "x = torch.empty(3,4)\n",
        "print(type(x))\n",
        "print(x)\n",
        "# 创建张量的最简单方法是使用调用：torch.empty()"
      ],
      "metadata": {
        "colab": {
          "base_uri": "https://localhost:8080/"
        },
        "id": "CQYBX2QFvB_C",
        "outputId": "9c1c87a8-92c9-4c87-eb64-f127166844d6"
      },
      "execution_count": 2,
      "outputs": [
        {
          "output_type": "stream",
          "name": "stdout",
          "text": [
            "<class 'torch.Tensor'>\n",
            "tensor([[2.3032e-03, 0.0000e+00, 2.3031e-03, 0.0000e+00],\n",
            "        [2.3822e-44, 3.0386e+29, 2.9217e-07, 0.0000e+00],\n",
            "        [2.3032e-03, 0.0000e+00, 0.0000e+00, 0.0000e+00]])\n"
          ]
        }
      ]
    },
    {
      "cell_type": "code",
      "source": [
        "zero = torch.zeros(2,3)\n",
        "print(zero)\n",
        "one = torch.ones(2,3)\n",
        "print(one)\n",
        "torch.manual_seed(1729)\n",
        "random = torch.rand(2,3)\n",
        "print(random)"
      ],
      "metadata": {
        "colab": {
          "base_uri": "https://localhost:8080/"
        },
        "id": "JobMow8BvPWf",
        "outputId": "1990064d-e3ac-46d9-fc36-df48911110b6"
      },
      "execution_count": 3,
      "outputs": [
        {
          "output_type": "stream",
          "name": "stdout",
          "text": [
            "tensor([[0., 0., 0.],\n",
            "        [0., 0., 0.]])\n",
            "tensor([[1., 1., 1.],\n",
            "        [1., 1., 1.]])\n",
            "tensor([[0.3126, 0.3791, 0.3087],\n",
            "        [0.0736, 0.4216, 0.0691]])\n"
          ]
        }
      ]
    },
    {
      "cell_type": "code",
      "source": [
        "torch.manual_seed(1729)\n",
        "random1 = torch.rand(2,3)\n",
        "print(random1)\n",
        "\n",
        "random2 = torch.rand(2,3)\n",
        "print(random2)\n",
        "\n",
        "torch.manual_seed(1729)\n",
        "random3 = torch.rand(2,3)\n",
        "print(random3)\n",
        "\n",
        "random4 = torch.rand(2,3)\n",
        "print(random4)"
      ],
      "metadata": {
        "colab": {
          "base_uri": "https://localhost:8080/"
        },
        "id": "FVPQGUddvt0Q",
        "outputId": "4ed53353-88e0-478e-9223-7145d6368c53"
      },
      "execution_count": 4,
      "outputs": [
        {
          "output_type": "stream",
          "name": "stdout",
          "text": [
            "tensor([[0.3126, 0.3791, 0.3087],\n",
            "        [0.0736, 0.4216, 0.0691]])\n",
            "tensor([[0.2332, 0.4047, 0.2162],\n",
            "        [0.9927, 0.4128, 0.5938]])\n",
            "tensor([[0.3126, 0.3791, 0.3087],\n",
            "        [0.0736, 0.4216, 0.0691]])\n",
            "tensor([[0.2332, 0.4047, 0.2162],\n",
            "        [0.9927, 0.4128, 0.5938]])\n"
          ]
        }
      ]
    },
    {
      "cell_type": "code",
      "source": [
        "x = torch.empty(2,3,4)\n",
        "print(x.shape)\n",
        "print(x)\n",
        "\n",
        "empty_like_x = torch.empty_like(x)\n",
        "print(empty_like_x.shape)\n",
        "print(empty_like_x)\n",
        "\n",
        "zeros_like_x = torch.zeros_like(x)\n",
        "print(zeros_like_x.shape)\n",
        "print(zeros_like_x)\n",
        "\n",
        "ones_like_x = torch.ones_like(x)\n",
        "print(ones_like_x.shape)\n",
        "print(ones_like_x)\n",
        "\n",
        "rand_like_x = torch.rand_like(x)\n",
        "print(rand_like_x.shape)\n",
        "print(rand_like_x)\n",
        "\n",
        "# 我们调用empty_like().、zeros_like()、ones_like()和rand_like()方法。\n",
        "# 使用该属性.shape，我们可以验证这些方法中的每一个都返回一个相同的维度和范围。"
      ],
      "metadata": {
        "colab": {
          "base_uri": "https://localhost:8080/"
        },
        "id": "5gHd0k_fwQfS",
        "outputId": "46b4cd54-0583-4fa7-bc12-7a87043b65c0"
      },
      "execution_count": 16,
      "outputs": [
        {
          "output_type": "stream",
          "name": "stdout",
          "text": [
            "torch.Size([2, 3, 4])\n",
            "tensor([[[ 0.0000e+00,  0.0000e+00,  0.0000e+00,  0.0000e+00],\n",
            "         [ 0.0000e+00,  0.0000e+00,  0.0000e+00,  0.0000e+00],\n",
            "         [ 0.0000e+00,  0.0000e+00,  2.0319e-43,  0.0000e+00]],\n",
            "\n",
            "        [[ 2.3122e-03,  0.0000e+00, -2.1571e-10,  4.4128e-41],\n",
            "         [ 0.0000e+00,  0.0000e+00,  0.0000e+00,  0.0000e+00],\n",
            "         [ 0.0000e+00,  0.0000e+00,  0.0000e+00,  0.0000e+00]]])\n",
            "torch.Size([2, 3, 4])\n",
            "tensor([[[-2.1571e-10,  4.4128e-41, -2.1571e-10,  4.4128e-41],\n",
            "         [ 0.0000e+00,  0.0000e+00,  0.0000e+00,  0.0000e+00],\n",
            "         [ 0.0000e+00,  0.0000e+00,  2.0319e-43,  0.0000e+00]],\n",
            "\n",
            "        [[ 2.3122e-03,  0.0000e+00,  2.1571e-10,  4.4128e-41],\n",
            "         [ 0.0000e+00,  0.0000e+00,  0.0000e+00,  0.0000e+00],\n",
            "         [ 0.0000e+00,  0.0000e+00,  0.0000e+00,  0.0000e+00]]])\n",
            "torch.Size([2, 3, 4])\n",
            "tensor([[[0., 0., 0., 0.],\n",
            "         [0., 0., 0., 0.],\n",
            "         [0., 0., 0., 0.]],\n",
            "\n",
            "        [[0., 0., 0., 0.],\n",
            "         [0., 0., 0., 0.],\n",
            "         [0., 0., 0., 0.]]])\n",
            "torch.Size([2, 3, 4])\n",
            "tensor([[[1., 1., 1., 1.],\n",
            "         [1., 1., 1., 1.],\n",
            "         [1., 1., 1., 1.]],\n",
            "\n",
            "        [[1., 1., 1., 1.],\n",
            "         [1., 1., 1., 1.],\n",
            "         [1., 1., 1., 1.]]])\n",
            "torch.Size([2, 3, 4])\n",
            "tensor([[[0.6679, 0.5315, 0.2931, 0.3075],\n",
            "         [0.2737, 0.4165, 0.0829, 0.2949],\n",
            "         [0.8438, 0.7180, 0.8981, 0.2380]],\n",
            "\n",
            "        [[0.8171, 0.0041, 0.9654, 0.5359],\n",
            "         [0.3610, 0.1523, 0.8037, 0.0192],\n",
            "         [0.0726, 0.3719, 0.5840, 0.5880]]])\n"
          ]
        }
      ]
    },
    {
      "cell_type": "code",
      "source": [
        "some_constants = torch.tensor([[3.1415926,2.71828],[1.61803,0.0072897]])\n",
        "print(some_constants)\n",
        "\n",
        "some_integers = torch.tensor((2,3,5,7,11,13,17,19))\n",
        "print(some_integers)\n",
        "\n",
        "more_integers = torch.tensor(((2,4,6),[3,6,9]))\n",
        "print(more_integers)\n"
      ],
      "metadata": {
        "colab": {
          "base_uri": "https://localhost:8080/"
        },
        "id": "z67IqS_3xaKH",
        "outputId": "7b0315fc-261d-4c2f-85be-2a6e1c9454c4"
      },
      "execution_count": 17,
      "outputs": [
        {
          "output_type": "stream",
          "name": "stdout",
          "text": [
            "tensor([[3.1416, 2.7183],\n",
            "        [1.6180, 0.0073]])\n",
            "tensor([ 2,  3,  5,  7, 11, 13, 17, 19])\n",
            "tensor([[2, 4, 6],\n",
            "        [3, 6, 9]])\n"
          ]
        }
      ]
    },
    {
      "cell_type": "code",
      "source": [
        "a = torch.ones((2,3),dtype= torch.int16)\n",
        "print(a)\n",
        "b = torch.rand((2,3),dtype= torch.float64) *20\n",
        "print(b)\n",
        "\n",
        "c = b.to(torch.int32)\n",
        "print(c)"
      ],
      "metadata": {
        "colab": {
          "base_uri": "https://localhost:8080/"
        },
        "id": "xhfK5OwIyVZu",
        "outputId": "5c836e21-8431-4f01-82b1-ae3a2bb75d31"
      },
      "execution_count": 18,
      "outputs": [
        {
          "output_type": "stream",
          "name": "stdout",
          "text": [
            "tensor([[1, 1, 1],\n",
            "        [1, 1, 1]], dtype=torch.int16)\n",
            "tensor([[15.6871, 19.1964,  8.3775],\n",
            "        [ 3.8887,  0.9265, 10.5135]], dtype=torch.float64)\n",
            "tensor([[15, 19,  8],\n",
            "        [ 3,  0, 10]], dtype=torch.int32)\n"
          ]
        }
      ]
    },
    {
      "cell_type": "code",
      "source": [
        "ones = torch.zeros(2,2)+1\n",
        "twos = torch.ones(2,2)*2\n",
        "threes = (torch.ones(2,2)*7-1)/2\n",
        "fours = twos ** 2\n",
        "sqrt2s = twos **0.5\n",
        "print(ones)\n",
        "print(twos)\n",
        "print(threes)\n",
        "print(fours)\n",
        "print(sqrt2s)"
      ],
      "metadata": {
        "colab": {
          "base_uri": "https://localhost:8080/"
        },
        "id": "g_9BWa0py2HW",
        "outputId": "52b04cc9-fbff-4912-eacb-4bfcea48aa33"
      },
      "execution_count": 19,
      "outputs": [
        {
          "output_type": "stream",
          "name": "stdout",
          "text": [
            "tensor([[1., 1.],\n",
            "        [1., 1.]])\n",
            "tensor([[2., 2.],\n",
            "        [2., 2.]])\n",
            "tensor([[3., 3.],\n",
            "        [3., 3.]])\n",
            "tensor([[4., 4.],\n",
            "        [4., 4.]])\n",
            "tensor([[1.4142, 1.4142],\n",
            "        [1.4142, 1.4142]])\n"
          ]
        }
      ]
    },
    {
      "cell_type": "code",
      "source": [
        "powers2 = twos ** torch.tensor([[1,2],[3,4]])\n",
        "print(powers2)\n",
        "fives = ones +fours\n",
        "print(fives)\n",
        "dozens = threes * fours\n",
        "print(dozens)"
      ],
      "metadata": {
        "colab": {
          "base_uri": "https://localhost:8080/"
        },
        "id": "bGr9rdvczg49",
        "outputId": "538edca7-e0e4-43e9-e241-a21ec7928af1"
      },
      "execution_count": 21,
      "outputs": [
        {
          "output_type": "stream",
          "name": "stdout",
          "text": [
            "tensor([[ 2.,  4.],\n",
            "        [ 8., 16.]])\n",
            "tensor([[5., 5.],\n",
            "        [5., 5.]])\n",
            "tensor([[12., 12.],\n",
            "        [12., 12.]])\n"
          ]
        }
      ]
    },
    {
      "cell_type": "code",
      "source": [
        "rand = torch.rand(2,4)\n",
        "doubled = rand * (torch.ones(1,4)*2)\n",
        "print(rand)\n",
        "print(doubled)\n",
        "# 广播规则是：\n",
        "# 每个张量必须至少有一个维度 - 没有空张量。\n",
        "# 比较两个张量的维度大小，从最后一个到第一个：\n",
        "# 每个维度必须相等，或者其中一个维度的大小必须为 1，或者维度不存在于其中一个张量中"
      ],
      "metadata": {
        "colab": {
          "base_uri": "https://localhost:8080/"
        },
        "id": "7MRAw1pa0VKz",
        "outputId": "841076b8-cdf7-4c51-d2e0-5deb6e39b018"
      },
      "execution_count": 22,
      "outputs": [
        {
          "output_type": "stream",
          "name": "stdout",
          "text": [
            "tensor([[0.2152, 0.0813, 0.7199, 0.2617],\n",
            "        [0.4047, 0.0177, 0.3361, 0.7429]])\n",
            "tensor([[0.4304, 0.1627, 1.4398, 0.5233],\n",
            "        [0.8093, 0.0354, 0.6723, 1.4857]])\n"
          ]
        }
      ]
    },
    {
      "cell_type": "code",
      "source": [
        "a = torch.ones(4,3,2)\n",
        "b = a*torch.rand( 3,2)\n",
        "print(b)\n",
        "c = a*torch.rand( 3,1)\n",
        "print(c)\n",
        "d = a * torch.rand(1,2)\n",
        "print(d)"
      ],
      "metadata": {
        "colab": {
          "base_uri": "https://localhost:8080/"
        },
        "id": "TiHOUaHj0yQP",
        "outputId": "4b398fe8-cb00-4d3c-c968-8b75eab37dad"
      },
      "execution_count": 23,
      "outputs": [
        {
          "output_type": "stream",
          "name": "stdout",
          "text": [
            "tensor([[[0.4492, 0.9244],\n",
            "         [0.2081, 0.4120],\n",
            "         [0.3000, 0.5434]],\n",
            "\n",
            "        [[0.4492, 0.9244],\n",
            "         [0.2081, 0.4120],\n",
            "         [0.3000, 0.5434]],\n",
            "\n",
            "        [[0.4492, 0.9244],\n",
            "         [0.2081, 0.4120],\n",
            "         [0.3000, 0.5434]],\n",
            "\n",
            "        [[0.4492, 0.9244],\n",
            "         [0.2081, 0.4120],\n",
            "         [0.3000, 0.5434]]])\n",
            "tensor([[[0.6819, 0.6819],\n",
            "         [0.8889, 0.8889],\n",
            "         [0.0919, 0.0919]],\n",
            "\n",
            "        [[0.6819, 0.6819],\n",
            "         [0.8889, 0.8889],\n",
            "         [0.0919, 0.0919]],\n",
            "\n",
            "        [[0.6819, 0.6819],\n",
            "         [0.8889, 0.8889],\n",
            "         [0.0919, 0.0919]],\n",
            "\n",
            "        [[0.6819, 0.6819],\n",
            "         [0.8889, 0.8889],\n",
            "         [0.0919, 0.0919]]])\n",
            "tensor([[[0.8537, 0.9432],\n",
            "         [0.8537, 0.9432],\n",
            "         [0.8537, 0.9432]],\n",
            "\n",
            "        [[0.8537, 0.9432],\n",
            "         [0.8537, 0.9432],\n",
            "         [0.8537, 0.9432]],\n",
            "\n",
            "        [[0.8537, 0.9432],\n",
            "         [0.8537, 0.9432],\n",
            "         [0.8537, 0.9432]],\n",
            "\n",
            "        [[0.8537, 0.9432],\n",
            "         [0.8537, 0.9432],\n",
            "         [0.8537, 0.9432]]])\n"
          ]
        }
      ]
    },
    {
      "cell_type": "code",
      "source": [
        "# 执行数学运算\n",
        "a = torch.rand(2,4) *2 -1\n",
        "print('Common functions:')\n",
        "print(torch.abs(a))\n",
        "print(torch.ceil(a))\n",
        "print(torch.floor(a))\n",
        "print(torch.clamp(a, -0.5,0.5))\n",
        "angles = torch.tensor([0,math.pi/4,math.pi/2,3*math.pi/4])\n",
        "sines = torch.sin(angles)\n",
        "inverses = torch.asin(sines)\n",
        "print('\\n Sine and arcsine:')\n",
        "print(angles)\n",
        "print(sines)\n",
        "print(inverses)\n",
        "\n",
        "print('\\n Bitwise XOR:')\n",
        "b = torch.tensor([1,5,11])\n",
        "c = torch.tensor([2,7,10])\n",
        "print(torch.bitwise_xor(b,c))\n",
        "\n",
        "print('\\n Broadcasted ,element-wise equality comparison:')\n",
        "d = torch.tensor([[1,2.],[3.,4.]])\n",
        "e = torch.ones(1,2)\n",
        "print(torch.eq(d,e))\n",
        "\n",
        "print('\\n Reduction ops:')\n",
        "print(torch.max(d))\n",
        "print(torch.max(d).item())\n",
        "print(torch.mean(d))\n",
        "print(torch.std(d))\n",
        "print(torch.prod(d))\n",
        "print(torch.unique(torch.tensor([1,2,1,2,1,2])))\n",
        "v1 = torch.tensor([1.,0.,0.])\n",
        "v2 = torch.tensor([0.,1.,0.])\n",
        "m1 = torch.rand(2,2)\n",
        "m2 = torch.tensor([[3.,0.],[0.,3.]])\n",
        "\n",
        "print('\\n Vectors & Matrices')\n",
        "print(torch.linalg.cross(v2,v1))\n",
        "print(m1)\n",
        "m3 = torch.linalg.inv(m1)\n",
        "print(m3)\n",
        "print(torch.linalg.svd(m3))"
      ],
      "metadata": {
        "colab": {
          "base_uri": "https://localhost:8080/"
        },
        "id": "3R-OvMuS1iVB",
        "outputId": "96ab2cb2-eff4-4bc4-b536-4104232be245"
      },
      "execution_count": 25,
      "outputs": [
        {
          "output_type": "stream",
          "name": "stdout",
          "text": [
            "Common functions:\n",
            "tensor([[0.6321, 0.7917, 0.7417, 0.3902],\n",
            "        [0.6292, 0.5922, 0.7634, 0.7433]])\n",
            "tensor([[-0., 1., 1., -0.],\n",
            "        [1., -0., 1., 1.]])\n",
            "tensor([[-1.,  0.,  0., -1.],\n",
            "        [ 0., -1.,  0.,  0.]])\n",
            "tensor([[-0.5000,  0.5000,  0.5000, -0.3902],\n",
            "        [ 0.5000, -0.5000,  0.5000,  0.5000]])\n",
            "\n",
            " Sine and arcsine:\n",
            "tensor([0.0000, 0.7854, 1.5708, 2.3562])\n",
            "tensor([0.0000, 0.7071, 1.0000, 0.7071])\n",
            "tensor([0.0000, 0.7854, 1.5708, 0.7854])\n",
            "\n",
            " Bitwise XOR:\n",
            "tensor([3, 2, 1])\n",
            "\n",
            " Broadcasted ,element-wise equality comparison:\n",
            "tensor([[ True, False],\n",
            "        [False, False]])\n",
            "\n",
            " Reduction ops:\n",
            "tensor(4.)\n",
            "4.0\n",
            "tensor(2.5000)\n",
            "tensor(1.2910)\n",
            "tensor(24.)\n",
            "tensor([1, 2])\n",
            "\n",
            " Vectors & Matrices\n",
            "tensor([ 0.,  0., -1.])\n",
            "tensor([[0.2459, 0.3499],\n",
            "        [0.2853, 0.9091]])\n",
            "tensor([[ 7.3492, -2.8290],\n",
            "        [-2.3066,  1.9879]])\n",
            "torch.return_types.linalg_svd(\n",
            "U=tensor([[-0.9380,  0.3467],\n",
            "        [ 0.3467,  0.9380]]),\n",
            "S=tensor([8.3879, 0.9638]),\n",
            "Vh=tensor([[-0.9172,  0.3985],\n",
            "        [ 0.3985,  0.9172]]))\n"
          ]
        }
      ]
    },
    {
      "cell_type": "code",
      "source": [
        "# 从torch.sin()中可以看到，调用张量是a.add_(b)中更改的张量地方。\n",
        "a = torch.tensor([0,math.pi/4,math.pi/2,3*math.pi/4])\n",
        "print('a:')\n",
        "print(a)\n",
        "print(torch.sin(a))\n",
        "print(a)\n",
        "\n",
        "b = torch.tensor([0,math.pi/4,math.pi/2, 3*math.pi/4])\n",
        "print('\\n b:')\n",
        "print(b)\n",
        "print(torch.sin_(b))\n",
        "print(b)"
      ],
      "metadata": {
        "colab": {
          "base_uri": "https://localhost:8080/"
        },
        "id": "oDT1w5Qy6FzU",
        "outputId": "ac563547-11fc-442a-8bd5-8db4633f6459"
      },
      "execution_count": 27,
      "outputs": [
        {
          "output_type": "stream",
          "name": "stdout",
          "text": [
            "a:\n",
            "tensor([0.0000, 0.7854, 1.5708, 2.3562])\n",
            "tensor([0.0000, 0.7071, 1.0000, 0.7071])\n",
            "tensor([0.0000, 0.7854, 1.5708, 2.3562])\n",
            "\n",
            " b:\n",
            "tensor([0.0000, 0.7854, 1.5708, 2.3562])\n",
            "tensor([0.0000, 0.7071, 1.0000, 0.7071])\n",
            "tensor([0.0000, 0.7071, 1.0000, 0.7071])\n"
          ]
        }
      ]
    },
    {
      "cell_type": "code",
      "source": [
        "a = torch.ones(2,2)\n",
        "b = torch.rand(2,2)\n",
        "print('Before:')\n",
        "print(a)\n",
        "print(b)\n",
        "print('n \\After adding:')\n",
        "print(a.add_(b))\n",
        "print(a)\n",
        "print(b)\n",
        "print('\\n After multiplying')\n",
        "print(b.mul_(b))\n",
        "print(b)"
      ],
      "metadata": {
        "colab": {
          "base_uri": "https://localhost:8080/"
        },
        "id": "jbevwYo27Cry",
        "outputId": "db405e2e-4d68-43f8-a9ad-9dcb23afa90d"
      },
      "execution_count": 28,
      "outputs": [
        {
          "output_type": "stream",
          "name": "stdout",
          "text": [
            "Before:\n",
            "tensor([[1., 1.],\n",
            "        [1., 1.]])\n",
            "tensor([[0.5695, 0.7206],\n",
            "        [0.4155, 0.0982]])\n",
            "n \\After adding:\n",
            "tensor([[1.5695, 1.7206],\n",
            "        [1.4155, 1.0982]])\n",
            "tensor([[1.5695, 1.7206],\n",
            "        [1.4155, 1.0982]])\n",
            "tensor([[0.5695, 0.7206],\n",
            "        [0.4155, 0.0982]])\n",
            "\n",
            " After multiplying\n",
            "tensor([[0.3243, 0.5193],\n",
            "        [0.1727, 0.0096]])\n",
            "tensor([[0.3243, 0.5193],\n",
            "        [0.1727, 0.0096]])\n"
          ]
        }
      ]
    },
    {
      "cell_type": "code",
      "source": [
        "a = torch.rand(2,2)\n",
        "b = torch.rand(2,2)\n",
        "c = torch.zeros(2,2)\n",
        "old_id = id(c)\n",
        "print(c)\n",
        "d = torch.matmul(a,b,out=c)\n",
        "print(c)\n",
        "\n",
        "assert c is d\n",
        "assert id(c)==old_id\n",
        "\n",
        "torch.rand(2,2,out=c)\n",
        "print(c)\n",
        "assert id(c) == old_id"
      ],
      "metadata": {
        "colab": {
          "base_uri": "https://localhost:8080/"
        },
        "id": "W39gU3637oLK",
        "outputId": "68aa6604-1dfe-4130-994b-aec0ff320b1e"
      },
      "execution_count": 29,
      "outputs": [
        {
          "output_type": "stream",
          "name": "stdout",
          "text": [
            "tensor([[0., 0.],\n",
            "        [0., 0.]])\n",
            "tensor([[0.3903, 0.0101],\n",
            "        [0.3287, 0.0123]])\n",
            "tensor([[0.2775, 0.0935],\n",
            "        [0.1874, 0.3136]])\n"
          ]
        }
      ]
    },
    {
      "cell_type": "code",
      "source": [
        "a = torch.ones(2,2)\n",
        "b = a\n",
        "a[0][1] = 561\n",
        "print(b)"
      ],
      "metadata": {
        "colab": {
          "base_uri": "https://localhost:8080/"
        },
        "id": "b2WE2r8E8cZn",
        "outputId": "93a85a38-f9f6-40a5-fdb6-3f07b31f7f1b"
      },
      "execution_count": 30,
      "outputs": [
        {
          "output_type": "stream",
          "name": "stdout",
          "text": [
            "tensor([[  1., 561.],\n",
            "        [  1.,   1.]])\n"
          ]
        }
      ]
    },
    {
      "cell_type": "code",
      "source": [
        "a = torch.ones(2,2)\n",
        "b =a.clone()\n",
        "\n",
        "assert b is not a\n",
        "print(torch.eq(a,b))\n",
        "a[0][1]=561\n",
        "print(b)"
      ],
      "metadata": {
        "colab": {
          "base_uri": "https://localhost:8080/"
        },
        "id": "jTsaCy_i8kbo",
        "outputId": "1d6eb310-285c-4dc2-feb9-e1d7e92031e6"
      },
      "execution_count": 31,
      "outputs": [
        {
          "output_type": "stream",
          "name": "stdout",
          "text": [
            "tensor([[True, True],\n",
            "        [True, True]])\n",
            "tensor([[1., 1.],\n",
            "        [1., 1.]])\n"
          ]
        }
      ]
    },
    {
      "cell_type": "code",
      "source": [
        "a = torch.rand(2,2,requires_grad=True)\n",
        "print(a)\n",
        "b = a.clone()\n",
        "print(b)\n",
        "c = a.detach().clone()\n",
        "print(c)\n",
        "\n",
        "print(a)"
      ],
      "metadata": {
        "colab": {
          "base_uri": "https://localhost:8080/"
        },
        "id": "zdn-SOij9BuS",
        "outputId": "f66c648e-dc0b-4990-d639-a6573136a6d6"
      },
      "execution_count": 32,
      "outputs": [
        {
          "output_type": "stream",
          "name": "stdout",
          "text": [
            "tensor([[0.7793, 0.8340],\n",
            "        [0.3402, 0.9330]], requires_grad=True)\n",
            "tensor([[0.7793, 0.8340],\n",
            "        [0.3402, 0.9330]], grad_fn=<CloneBackward0>)\n",
            "tensor([[0.7793, 0.8340],\n",
            "        [0.3402, 0.9330]])\n",
            "tensor([[0.7793, 0.8340],\n",
            "        [0.3402, 0.9330]], requires_grad=True)\n"
          ]
        }
      ]
    },
    {
      "cell_type": "code",
      "source": [
        "if torch.accelerator.is_available():\n",
        "  print(\"We have an accelerator!\")\n",
        "else:\n",
        "  print('Sorry,CPU only.')"
      ],
      "metadata": {
        "colab": {
          "base_uri": "https://localhost:8080/"
        },
        "id": "u9eCTuuQ9X-8",
        "outputId": "86fe5195-cca0-4ba0-ef6f-8bceb6301d31"
      },
      "execution_count": 33,
      "outputs": [
        {
          "output_type": "stream",
          "name": "stdout",
          "text": [
            "Sorry,CPU only.\n"
          ]
        }
      ]
    },
    {
      "cell_type": "code",
      "source": [
        "# 有多种方法可以将数据传输到目标设备上。你 可以在创建时执行此作\n",
        "my_device = torch.accelerator.current_accelerator() if torch.accelerator.is_available() else torch.device('cpu')  # 将torch.device('cpu')放在同一行\n",
        "print('Device:{}'.format(my_device))\n",
        "\n",
        "x = torch.rand(2,2,device=my_device)\n",
        "print(x)\n"
      ],
      "metadata": {
        "colab": {
          "base_uri": "https://localhost:8080/"
        },
        "id": "YnFi_4yh91_j",
        "outputId": "9c5bf3c6-ee45-47c0-8df8-15a649603b88"
      },
      "execution_count": 35,
      "outputs": [
        {
          "output_type": "stream",
          "name": "stdout",
          "text": [
            "Device:cpu\n",
            "tensor([[0.5609, 0.9791],\n",
            "        [0.3976, 0.5647]])\n"
          ]
        }
      ]
    },
    {
      "cell_type": "code",
      "source": [
        "import torch\n",
        "\n",
        "# 检查 CUDA 是否可用，若不可用则使用 CPU\n",
        "device = torch.device(\"cuda\" if torch.cuda.is_available() else \"cpu\")\n",
        "print(f\"Using device: {device}\")\n",
        "\n",
        "# 在选定的设备上创建张量\n",
        "x = torch.rand(2, 2, device=device)\n",
        "y = torch.rand(2, 2, device=device)\n",
        "z = x + y  # 现在 x 和 y 在同一个设备上，不会报错\n",
        "\n",
        "print(z)"
      ],
      "metadata": {
        "colab": {
          "base_uri": "https://localhost:8080/"
        },
        "id": "qivsa47q-sAU",
        "outputId": "0fbbf7d1-ae58-4867-af8e-527927a64a60"
      },
      "execution_count": 39,
      "outputs": [
        {
          "output_type": "stream",
          "name": "stdout",
          "text": [
            "Using device: cpu\n",
            "tensor([[0.1724, 0.4018],\n",
            "        [0.9612, 0.9296]])\n"
          ]
        }
      ]
    },
    {
      "cell_type": "code",
      "source": [
        "a = torch.rand(3,226,226)\n",
        "b = a.unsqueeze(0)\n",
        "print(a.shape)\n",
        "print(b.shape)\n"
      ],
      "metadata": {
        "colab": {
          "base_uri": "https://localhost:8080/"
        },
        "id": "_cvuZada-3u-",
        "outputId": "e316f454-1ce7-4769-ad61-d16112757226"
      },
      "execution_count": 6,
      "outputs": [
        {
          "output_type": "stream",
          "name": "stdout",
          "text": [
            "torch.Size([3, 226, 226])\n",
            "torch.Size([1, 3, 226, 226])\n"
          ]
        }
      ]
    },
    {
      "cell_type": "code",
      "source": [
        "c = torch.rand(1,1,1,1,1)\n",
        "print(c)"
      ],
      "metadata": {
        "colab": {
          "base_uri": "https://localhost:8080/"
        },
        "id": "tUj5Z-AB_Fgp",
        "outputId": "21f86fda-2bc5-4f29-fda3-aaa34a5c91e9"
      },
      "execution_count": 7,
      "outputs": [
        {
          "output_type": "stream",
          "name": "stdout",
          "text": [
            "tensor([[[[[0.1895]]]]])\n"
          ]
        }
      ]
    },
    {
      "cell_type": "code",
      "source": [
        "a = torch.rand(1,20)\n",
        "print(a.shape)\n",
        "print(a)\n",
        "b = a.squeeze(0)\n",
        "print(b.shape)\n",
        "print(b)\n",
        "\n",
        "c = torch.rand(2,2)\n",
        "print(c.shape)\n",
        "\n",
        "d = c.squeeze(0)\n",
        "print(d.shape)"
      ],
      "metadata": {
        "colab": {
          "base_uri": "https://localhost:8080/"
        },
        "id": "YXRhafd1_KFf",
        "outputId": "8848dd76-0cfb-4fa8-cd86-e399fc19bd5a"
      },
      "execution_count": 8,
      "outputs": [
        {
          "output_type": "stream",
          "name": "stdout",
          "text": [
            "torch.Size([1, 20])\n",
            "tensor([[0.9562, 0.8896, 0.7035, 0.9211, 0.1784, 0.2168, 0.4146, 0.2654, 0.0098,\n",
            "         0.2950, 0.6072, 0.3663, 0.4035, 0.4121, 0.0695, 0.5390, 0.1751, 0.4792,\n",
            "         0.1661, 0.5460]])\n",
            "torch.Size([20])\n",
            "tensor([0.9562, 0.8896, 0.7035, 0.9211, 0.1784, 0.2168, 0.4146, 0.2654, 0.0098,\n",
            "        0.2950, 0.6072, 0.3663, 0.4035, 0.4121, 0.0695, 0.5390, 0.1751, 0.4792,\n",
            "        0.1661, 0.5460])\n",
            "torch.Size([2, 2])\n",
            "torch.Size([2, 2])\n"
          ]
        }
      ]
    },
    {
      "cell_type": "code",
      "source": [
        "a = torch.ones(4,3,2)\n",
        "c = a*torch.rand( 3,1)\n",
        "print(c)"
      ],
      "metadata": {
        "colab": {
          "base_uri": "https://localhost:8080/"
        },
        "id": "nWixORUQ_kHy",
        "outputId": "3b46d211-1cab-4454-c308-b2b4765d04c9"
      },
      "execution_count": 9,
      "outputs": [
        {
          "output_type": "stream",
          "name": "stdout",
          "text": [
            "tensor([[[0.4265, 0.4265],\n",
            "         [0.5256, 0.5256],\n",
            "         [0.9091, 0.9091]],\n",
            "\n",
            "        [[0.4265, 0.4265],\n",
            "         [0.5256, 0.5256],\n",
            "         [0.9091, 0.9091]],\n",
            "\n",
            "        [[0.4265, 0.4265],\n",
            "         [0.5256, 0.5256],\n",
            "         [0.9091, 0.9091]],\n",
            "\n",
            "        [[0.4265, 0.4265],\n",
            "         [0.5256, 0.5256],\n",
            "         [0.9091, 0.9091]]])\n"
          ]
        }
      ]
    },
    {
      "cell_type": "code",
      "source": [
        "a = torch.ones(4,3,2)\n",
        "b = torch.rand( 3)\n",
        "c = b.unsqueeze(1)\n",
        "print(c.shape)\n",
        "print(a*c)"
      ],
      "metadata": {
        "colab": {
          "base_uri": "https://localhost:8080/"
        },
        "id": "_d3Kgznf_t7M",
        "outputId": "1fa73d3b-4203-43bd-bf4e-936513901dea"
      },
      "execution_count": 10,
      "outputs": [
        {
          "output_type": "stream",
          "name": "stdout",
          "text": [
            "torch.Size([3, 1])\n",
            "tensor([[[0.2780, 0.2780],\n",
            "         [0.2162, 0.2162],\n",
            "         [0.9831, 0.9831]],\n",
            "\n",
            "        [[0.2780, 0.2780],\n",
            "         [0.2162, 0.2162],\n",
            "         [0.9831, 0.9831]],\n",
            "\n",
            "        [[0.2780, 0.2780],\n",
            "         [0.2162, 0.2162],\n",
            "         [0.9831, 0.9831]],\n",
            "\n",
            "        [[0.2780, 0.2780],\n",
            "         [0.2162, 0.2162],\n",
            "         [0.9831, 0.9831]]])\n"
          ]
        }
      ]
    },
    {
      "cell_type": "code",
      "source": [
        "# squeeze() unsqueeze() squeeze_() unsqueeze_()\n",
        "batch_me = torch.rand(3,226,226)\n",
        "print(batch_me.shape)\n",
        "batch_me.unsqueeze_(0)\n",
        "print(batch_me.shape)"
      ],
      "metadata": {
        "colab": {
          "base_uri": "https://localhost:8080/"
        },
        "id": "yLVgs15c_8vw",
        "outputId": "c7e973d7-e808-4249-94ed-41e8039b6760"
      },
      "execution_count": 11,
      "outputs": [
        {
          "output_type": "stream",
          "name": "stdout",
          "text": [
            "torch.Size([3, 226, 226])\n",
            "torch.Size([1, 3, 226, 226])\n"
          ]
        }
      ]
    },
    {
      "cell_type": "code",
      "source": [
        "output3d = torch.rand(6,20,20)\n",
        "print(output3d.shape)\n",
        "input1d = output3d.reshape(6*20*20)\n",
        "print(input1d.shape)\n",
        "\n",
        "print(torch.reshape(output3d,(6*20*20,)).shape)"
      ],
      "metadata": {
        "colab": {
          "base_uri": "https://localhost:8080/"
        },
        "id": "dVv8CvLNAZ4f",
        "outputId": "ed2e648b-0ba3-4a84-f96c-7541567b8546"
      },
      "execution_count": 12,
      "outputs": [
        {
          "output_type": "stream",
          "name": "stdout",
          "text": [
            "torch.Size([6, 20, 20])\n",
            "torch.Size([2400])\n",
            "torch.Size([2400])\n"
          ]
        }
      ]
    },
    {
      "cell_type": "code",
      "source": [
        "import numpy as np\n",
        "numpy_array = np.ones((2,3))\n",
        "print(numpy_array)\n",
        "\n",
        "pytorch_tensor = torch.from_numpy(numpy_array)\n",
        "print(pytorch_tensor)"
      ],
      "metadata": {
        "colab": {
          "base_uri": "https://localhost:8080/"
        },
        "id": "mSw7Qqc4AyYr",
        "outputId": "ed9366ea-c13d-4db0-f781-699b007dd8f5"
      },
      "execution_count": 13,
      "outputs": [
        {
          "output_type": "stream",
          "name": "stdout",
          "text": [
            "[[1. 1. 1.]\n",
            " [1. 1. 1.]]\n",
            "tensor([[1., 1., 1.],\n",
            "        [1., 1., 1.]], dtype=torch.float64)\n"
          ]
        }
      ]
    },
    {
      "cell_type": "code",
      "source": [
        "pytorch_rand = torch.rand(2,3)\n",
        "print(pytorch_rand)\n",
        "\n",
        "numpy_rand = pytorch_rand.numpy()\n",
        "print(numpy_rand)"
      ],
      "metadata": {
        "colab": {
          "base_uri": "https://localhost:8080/"
        },
        "id": "AF8zFgbkBMia",
        "outputId": "848fdeb4-a7f0-4045-ad89-1ff9a343a8f1"
      },
      "execution_count": 14,
      "outputs": [
        {
          "output_type": "stream",
          "name": "stdout",
          "text": [
            "tensor([[0.3713, 0.5356, 0.8788],\n",
            "        [0.2939, 0.6085, 0.8147]])\n",
            "[[0.37127358 0.5355865  0.87883186]\n",
            " [0.29386652 0.60853326 0.81471366]]\n"
          ]
        }
      ]
    },
    {
      "cell_type": "code",
      "source": [
        "numpy_array[1,1] = 23\n",
        "print(pytorch_tensor)\n",
        "pytorch_rand[1,1] =17\n",
        "print(numpy_rand)"
      ],
      "metadata": {
        "colab": {
          "base_uri": "https://localhost:8080/"
        },
        "id": "OsXO44m5Bc0q",
        "outputId": "6e88b014-c628-4280-edf9-22ccdb6e8fa5"
      },
      "execution_count": 15,
      "outputs": [
        {
          "output_type": "stream",
          "name": "stdout",
          "text": [
            "tensor([[ 1.,  1.,  1.],\n",
            "        [ 1., 23.,  1.]], dtype=torch.float64)\n",
            "[[ 0.37127358  0.5355865   0.87883186]\n",
            " [ 0.29386652 17.          0.81471366]]\n"
          ]
        }
      ]
    }
  ]
}