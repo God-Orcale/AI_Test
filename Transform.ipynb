{
  "nbformat": 4,
  "nbformat_minor": 0,
  "metadata": {
    "colab": {
      "provenance": [],
      "authorship_tag": "ABX9TyNPGiwjbWHy+fAzLDWJOWHy",
      "include_colab_link": true
    },
    "kernelspec": {
      "name": "python3",
      "display_name": "Python 3"
    },
    "language_info": {
      "name": "python"
    }
  },
  "cells": [
    {
      "cell_type": "markdown",
      "metadata": {
        "id": "view-in-github",
        "colab_type": "text"
      },
      "source": [
        "<a href=\"https://colab.research.google.com/github/God-Orcale/AI_Test/blob/main/Transform.ipynb\" target=\"_parent\"><img src=\"https://colab.research.google.com/assets/colab-badge.svg\" alt=\"Open In Colab\"/></a>"
      ]
    },
    {
      "cell_type": "code",
      "execution_count": 5,
      "metadata": {
        "colab": {
          "base_uri": "https://localhost:8080/"
        },
        "id": "5ZTyD6fzbhhL",
        "outputId": "98bb66e7-5786-499f-82b6-83ffbd2842af"
      },
      "outputs": [
        {
          "output_type": "stream",
          "name": "stderr",
          "text": [
            "100%|██████████| 26.4M/26.4M [00:01<00:00, 20.8MB/s]\n",
            "100%|██████████| 29.5k/29.5k [00:00<00:00, 346kB/s]\n",
            "100%|██████████| 4.42M/4.42M [00:00<00:00, 6.22MB/s]\n",
            "100%|██████████| 5.15k/5.15k [00:00<00:00, 9.12MB/s]\n"
          ]
        }
      ],
      "source": [
        "import torch\n",
        "from torchvision import datasets\n",
        "from torchvision.transforms import ToTensor,Lambda\n",
        "\n",
        "ds = datasets.FashionMNIST(\n",
        "    root = \"data\",\n",
        "    train = True,\n",
        "    download = True,\n",
        "    transform = ToTensor(),\n",
        "    target_transform = Lambda(lambda y:torch.zeros(10,dtype=torch.float).scatter_(0,tensor(y),value=1))\n",
        "  # 所有 TorchVision 数据集都有两个参数 - 修改特征和修改标签\n",
        "  # transform  target_transform\n",
        "  # FashionMNIST 功能采用 PIL 图像格式，标签为整数。\n",
        "  # 对于训练，我们需要将特征作为标准化张量，将标签作为独热编码张量\n",
        "  #   ToTensor Lambda\n",
        ")\n",
        "# ToTensor将PIL图像或NumPy转换为图像的像素强度值在[0， 1]范围内。\n",
        "# Lambda 转换应用任何用户定义的 lambda 函数。\n",
        "# 在这里，我们定义了一个函数 将整数转换为 one-hot 编码张量。"
      ]
    },
    {
      "cell_type": "code",
      "source": [
        "print(ds)\n"
      ],
      "metadata": {
        "colab": {
          "base_uri": "https://localhost:8080/"
        },
        "id": "QtdE3DALdiRf",
        "outputId": "ec0ac822-da0d-4eaa-ffe3-bdb494e0976f"
      },
      "execution_count": 6,
      "outputs": [
        {
          "output_type": "stream",
          "name": "stdout",
          "text": [
            "Dataset FashionMNIST\n",
            "    Number of datapoints: 60000\n",
            "    Root location: data\n",
            "    Split: Train\n",
            "    StandardTransform\n",
            "Transform: ToTensor()\n",
            "Target transform: Lambda()\n"
          ]
        }
      ]
    }
  ]
}