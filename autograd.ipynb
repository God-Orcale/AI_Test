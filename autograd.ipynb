{
  "nbformat": 4,
  "nbformat_minor": 0,
  "metadata": {
    "colab": {
      "provenance": [],
      "authorship_tag": "ABX9TyOMUIqCcCiRHQTOEmL/ckyW",
      "include_colab_link": true
    },
    "kernelspec": {
      "name": "python3",
      "display_name": "Python 3"
    },
    "language_info": {
      "name": "python"
    }
  },
  "cells": [
    {
      "cell_type": "markdown",
      "metadata": {
        "id": "view-in-github",
        "colab_type": "text"
      },
      "source": [
        "<a href=\"https://colab.research.google.com/github/God-Orcale/AI_Test/blob/main/autograd.ipynb\" target=\"_parent\"><img src=\"https://colab.research.google.com/assets/colab-badge.svg\" alt=\"Open In Colab\"/></a>"
      ]
    },
    {
      "cell_type": "code",
      "execution_count": 8,
      "metadata": {
        "colab": {
          "base_uri": "https://localhost:8080/"
        },
        "id": "7ySxdjyFZSro",
        "outputId": "81fb2c92-e964-492f-89ce-9d563b901b99"
      },
      "outputs": [
        {
          "output_type": "stream",
          "name": "stdout",
          "text": [
            "x:tensor([1., 1., 1., 1., 1.]),\n",
            " w:tensor([[-0.5307, -0.7968, -0.2264],\n",
            "        [ 0.1109, -0.1617,  0.1858],\n",
            "        [-0.8023, -0.0873, -0.1678],\n",
            "        [ 0.7206, -1.1387, -0.4571],\n",
            "        [ 1.4859,  1.2503,  0.4301]], requires_grad=True),\n",
            " b:tensor([-1.1817, -0.3948, -0.1673], requires_grad=True),\n",
            " z:tensor([-0.1974, -1.3290, -0.4026], grad_fn=<AddBackward0>),\n",
            " loss:0.4487166106700897\n"
          ]
        }
      ],
      "source": [
        "import torch\n",
        "x = torch.ones(5)\n",
        "y = torch.zeros(3)\n",
        "w = torch.randn(5,3,requires_grad=True)\n",
        "b = torch.randn(3,requires_grad= True)\n",
        "z = torch.matmul(x,w)+b\n",
        "loss = torch.nn.functional.binary_cross_entropy_with_logits(z,y)\n",
        "# 反向传播。在此算法中，参数根据loss函数的梯度进行调整添加到给定的参数中。\n",
        "# 计算梯度，PyTorch有一个内置的微分引擎叫torch.autograd。\n",
        "# 它支持自动计算任何计算图。\n",
        "print(f\"x:{x},\\n w:{w},\\n b:{b},\\n z:{z},\\n loss:{loss}\")"
      ]
    },
    {
      "cell_type": "code",
      "source": [
        "print(f\"Gradient function for z = {z.grad_fn}\")\n",
        "print(f\"Gradient function for loss = {loss.grad_fn}\")\n",
        "# 应用张量以构建计算图的函数实际上是此类对象知道\n",
        "# 如何计算正向的函数，以及如何计算它在向后传播步骤中的导数。"
      ],
      "metadata": {
        "colab": {
          "base_uri": "https://localhost:8080/"
        },
        "id": "uHeqCrP6aUNO",
        "outputId": "d80437f3-874e-4c0c-f192-2c1010389f0e"
      },
      "execution_count": 2,
      "outputs": [
        {
          "output_type": "stream",
          "name": "stdout",
          "text": [
            "Gradient function for z = <AddBackward0 object at 0x78a5884ef5b0>\n",
            "Gradient function for loss = <BinaryCrossEntropyWithLogitsBackward0 object at 0x78a5884eeec0>\n"
          ]
        }
      ]
    },
    {
      "cell_type": "code",
      "source": [
        "loss.backward()\n",
        "print(w.grad)\n",
        "print(b.grad)\n",
        "# 计算我们的损失函数关于参数的导数\n",
        "# 为了计算这些导数，我们调用loss.backward()，然后从w.grad和b.grad中检索值"
      ],
      "metadata": {
        "colab": {
          "base_uri": "https://localhost:8080/"
        },
        "id": "KcpFl36Ua53t",
        "outputId": "9cdb69d3-0571-435d-c70d-6e62622ce7fd"
      },
      "execution_count": 3,
      "outputs": [
        {
          "output_type": "stream",
          "name": "stdout",
          "text": [
            "tensor([[0.0405, 0.2233, 0.0685],\n",
            "        [0.0405, 0.2233, 0.0685],\n",
            "        [0.0405, 0.2233, 0.0685],\n",
            "        [0.0405, 0.2233, 0.0685],\n",
            "        [0.0405, 0.2233, 0.0685]])\n",
            "tensor([0.0405, 0.2233, 0.0685])\n"
          ]
        }
      ]
    },
    {
      "cell_type": "code",
      "source": [
        "z = torch.matmul(x,w)+b\n",
        "print(z.requires_grad)\n",
        "with torch.no_grad():\n",
        "  z = torch.matmul(x,w)+b\n",
        "print(z.requires_grad)\n",
        "# 当我们有训练模型，只想将其应用于一些输入数据，即我们只想通过网络进行前向计算。\n",
        "# 我们可以通过使用torch.no_grad()Block包围我们的计算代码来停止跟踪计算"
      ],
      "metadata": {
        "colab": {
          "base_uri": "https://localhost:8080/"
        },
        "id": "RKq_ODXEbS-6",
        "outputId": "9f1e27a3-8922-45c9-b674-666ca5b4565e"
      },
      "execution_count": 4,
      "outputs": [
        {
          "output_type": "stream",
          "name": "stdout",
          "text": [
            "True\n",
            "False\n"
          ]
        }
      ]
    },
    {
      "cell_type": "code",
      "source": [
        "z = torch.matmul(x,w)+b\n",
        "z_det = z.detach()\n",
        "print(z_det.requires_grad)\n",
        "# 实现相同结果的另一种方法是使用detach()在 Tensor 上"
      ],
      "metadata": {
        "colab": {
          "base_uri": "https://localhost:8080/"
        },
        "id": "NxluaNqfcCNf",
        "outputId": "878777eb-94ca-47d7-8248-1ae597f27867"
      },
      "execution_count": 5,
      "outputs": [
        {
          "output_type": "stream",
          "name": "stdout",
          "text": [
            "False\n"
          ]
        }
      ]
    },
    {
      "cell_type": "markdown",
      "source": [
        "禁用渐变跟踪：\n",
        "\n",
        "将神经网络中的某些参数标记为冻结参数。\n",
        "\n",
        "在执行仅前向传递时加快计算速度，因为执行不跟踪渐变会更有效。"
      ],
      "metadata": {
        "id": "jckPKRspd4f-"
      }
    },
    {
      "cell_type": "code",
      "source": [
        "inp = torch.eye(4,5,requires_grad=True)\n",
        "out = (inp+1).pow(2).t()\n",
        "out.backward(torch.ones_like(out),retain_graph=True)\n",
        "print(f\"First call\\n{inp.grad}\")\n",
        "out.backward(torch.ones_like(out),retain_graph=True)\n",
        "print(f\"\\nSeconf call\\n{inp.grad}\")\n",
        "inp.grad.zero_()\n",
        "out.backward(torch.ones_like(out),retain_graph=True)\n",
        "print(f\"\\n Call after zeroing gradients\\n{inp.grad}\")\n",
        "# 我们有一个标量损失函数，我们需要计算相对于某些参数的梯度。\n",
        "# 但是，也有情况当output函数是任意张量时。\n",
        "# 在本例中，PyTorch允许您计算所谓的雅可比积，而不是实际的梯度。"
      ],
      "metadata": {
        "colab": {
          "base_uri": "https://localhost:8080/"
        },
        "id": "C9KAzX8RcUUH",
        "outputId": "5a2e09f8-3794-4f4f-df25-411ab1e7781f"
      },
      "execution_count": 6,
      "outputs": [
        {
          "output_type": "stream",
          "name": "stdout",
          "text": [
            "First call\n",
            "tensor([[4., 2., 2., 2., 2.],\n",
            "        [2., 4., 2., 2., 2.],\n",
            "        [2., 2., 4., 2., 2.],\n",
            "        [2., 2., 2., 4., 2.]])\n",
            "\n",
            "Seconf call\n",
            "tensor([[8., 4., 4., 4., 4.],\n",
            "        [4., 8., 4., 4., 4.],\n",
            "        [4., 4., 8., 4., 4.],\n",
            "        [4., 4., 4., 8., 4.]])\n",
            "\n",
            " Call after zeroing gradients\n",
            "tensor([[4., 2., 2., 2., 2.],\n",
            "        [2., 4., 2., 2., 2.],\n",
            "        [2., 2., 4., 2., 2.],\n",
            "        [2., 2., 2., 4., 2.]])\n"
          ]
        }
      ]
    },
    {
      "cell_type": "markdown",
      "source": [
        "注意，当我们使用相同的参数，则gradient的值不同。发生这种情况是因为在执行传播时，PyTorch 会累积gradients，即计算出的gradients的值被添加到计算图的所有叶节点的属性中。如果要计算正确的梯度，需要先将property归零。"
      ],
      "metadata": {
        "id": "pAhr_cPPdqRn"
      }
    }
  ]
}